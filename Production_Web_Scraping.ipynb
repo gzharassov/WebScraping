{
 "cells": [
  {
   "cell_type": "code",
   "execution_count": 1,
   "metadata": {},
   "outputs": [],
   "source": [
    "import bs4\n",
    "import re\n",
    "import xlrd\n",
    "import hashlib\n",
    "import openpyxl "
   ]
  },
  {
   "cell_type": "code",
   "execution_count": 2,
   "metadata": {},
   "outputs": [],
   "source": [
    "from urllib.request import urlopen as uReq"
   ]
  },
  {
   "cell_type": "code",
   "execution_count": 3,
   "metadata": {},
   "outputs": [],
   "source": [
    "from bs4 import BeautifulSoup as soup"
   ]
  },
  {
   "cell_type": "code",
   "execution_count": 4,
   "metadata": {},
   "outputs": [],
   "source": [
    "from openpyxl import *"
   ]
  },
  {
   "cell_type": "code",
   "execution_count": 5,
   "metadata": {},
   "outputs": [
    {
     "data": {
      "text/plain": [
       "('Международная неделя инвесторов в МФЦА 2020', 'centras group')"
      ]
     },
     "execution_count": 5,
     "metadata": {},
     "output_type": "execute_result"
    }
   ],
   "source": [
    "wb_keywords = xlrd.open_workbook(\"Desktop\\Files for Scraping\\ключевые слова.xlsx\")\n",
    "sheet_keywords = wb_keywords.sheet_by_index(0)\n",
    "sheet_keywords.cell_value(0, 0)\n",
    "sheet_keywords.nrows\n",
    "keywords = []\n",
    "for i in range(sheet_keywords.nrows):\n",
    "    keywords.append(sheet_keywords.cell_value(i, 0))\n",
    "keywords[0], keywords[sheet_keywords.nrows-1]"
   ]
  },
  {
   "cell_type": "code",
   "execution_count": 6,
   "metadata": {},
   "outputs": [],
   "source": [
    "wb_website = xlrd.open_workbook(\"Desktop\\Files for Scraping\\Список сайтов для бота.xlsx\")\n",
    "sheet_website = wb_website.sheet_by_index(0)\n",
    "sheet_website.cell_value(36, 1)\n",
    "websites = []\n",
    "for i in range(sheet_website.nrows):\n",
    "    websites.append(sheet_website.cell_value(i,1))"
   ]
  },
  {
   "cell_type": "code",
   "execution_count": 43,
   "metadata": {},
   "outputs": [],
   "source": [
    "#read old hashes\n",
    "wb_hashes = xlrd.open_workbook(\"Desktop\\Files for Scraping\\Hashes.xlsx\")\n",
    "sheet_hashes = wb_hashes.sheet_by_index(0)\n",
    "hashes = []\n",
    "for i in range(sheet_hashes.nrows):\n",
    "    hashes.append(sheet_hashes.cell_value(i,0))"
   ]
  },
  {
   "cell_type": "code",
   "execution_count": 44,
   "metadata": {},
   "outputs": [
    {
     "data": {
      "text/plain": [
       "'4abec1ab88284ab4570baffa44b05197714131b34a28c5e77ad2f687'"
      ]
     },
     "execution_count": 44,
     "metadata": {},
     "output_type": "execute_result"
    }
   ],
   "source": [
    "hashes[0]"
   ]
  },
  {
   "cell_type": "code",
   "execution_count": 45,
   "metadata": {},
   "outputs": [
    {
     "name": "stdout",
     "output_type": "stream",
     "text": [
      "___________________\n",
      "4abec1ab88284ab4570baffa44b05197714131b34a28c5e77ad2f687\n",
      "___________________\n",
      "3fe1261008385c2ba50ed9f877f6564e585af0528b60de156e1ed1ac\n",
      "___________________\n",
      "9753863938798280d44141a636807959eced5d63ea8d90754e56ef26\n",
      "___________________\n",
      "f0ecbb8dd8ac23efc7f3f565e48b33d53efc167e44b803df56f46302\n",
      "___________________\n",
      "baaa3bb85a9204af6a7a21f81c02c67fab5997f3f64ab3f7a2dcf3a5\n",
      "___________________\n",
      "84774c4acdd4f9bbf868c884d56680bf5736a569f224436b786bd6ea\n",
      "___________________\n",
      "92435491a8fa54360c853027506fd41f49307fa1c3fe3015ff2def3a\n",
      "Check this website: http://www.afk.kz/ru/sobyitiya-afk/\n",
      "___________________\n",
      "4a7951694c1f79de4c45db4a3c08ae247a1fd80e7076936d73ac5770\n",
      "Check this website: http://www.ank.kz/events\n",
      "yes\n",
      "conference 2\n",
      "yes\n",
      "forum 1\n",
      "___________________\n",
      "6794f628c4559bd39369f7c23953bb88f0bb0a95a47255036557370f\n",
      "___________________\n",
      "bc1d7b257d403e6c6514e6f60dd9d1e8afe6f93ce83316e5b727378c\n",
      "___________________\n",
      "10a5552c45739fa8577a818d527cd1699ac01124ee1ac33ea4b28487\n",
      "___________________\n",
      "4b37798e849ee412233bbb3fff5153bf11943acad967d615729ea6fb\n",
      "___________________\n",
      "0b8b0044d002e261d45659d9a3f1904e77895b6bdd027289cbe3a0d2\n",
      "___________________\n",
      "646bbb69435f5e2025defb8421721bface58413a00faca2914136c44\n",
      "___________________\n",
      "17eaa49587fe32d702de38b58f5d78d07fc78c11b10f6e424a381248\n",
      "___________________\n",
      "8bfcda248bcd1c58b34df201a5ff15ff5eac82f79139d18833982ad6\n",
      "___________________\n",
      "878440a3c6988bc24676660bf1c75ef824d1bf4657b0362c118c27d2\n",
      "___________________\n",
      "bd5583c93b5ab5ba03b4d34799fa41cab73445857239067367663f8e\n",
      "___________________\n",
      "cc3d0ba0317c07372d016de6f4e447707fd07a312fc2e3d389779a59\n",
      "___________________\n",
      "7b3675f446eb1fa8a2aaa7332a0e0078bbe06929a8997f5ae4047a18\n",
      "Check this website: https://vlast.kz/novosti/\n",
      "___________________\n",
      "f9d2004b4271e8b263f78ce673e4c938fe2a849ea665fed6831b986c\n",
      "___________________\n",
      "26322a204518fb4b2f5780212e3ffdd0607ea4a0d8b46660e209a29e\n",
      "Check this website: https://iotworldsummit.ru/expo-promo/\n",
      "yes\n",
      "круглый стол 1\n",
      "yes\n",
      "выставка 2\n",
      "___________________\n",
      "d52d58d2a69ded9b5631255ac3acc66c9fa49e9cc91ca42bc7fa83e7\n",
      "___________________\n",
      "ec49b6f5e1698a1200a3a976c4bb9ffb558ce33bd7c44ea843170ffe\n",
      "___________________\n",
      "1cc0d9e29a1adc6c29232dc31720cd09e585df58750ae357f671e2f6\n",
      "Check this website: https://2021.minexkazakhstan.com/ru/glavnaya/\n",
      "yes\n",
      "форум 41\n",
      "yes\n",
      "conference 45\n",
      "yes\n",
      "forum 66\n",
      "yes\n",
      "mining 8\n",
      "yes\n",
      "выставка 1\n",
      "yes\n",
      "ГМК 1\n",
      "yes\n",
      "инновации 2\n",
      "yes\n",
      "customs 1\n",
      "___________________\n",
      "50f0af706de83fd1a51b2e03fb11da125fc1bffb72336cc72e77746d\n",
      "___________________\n",
      "a9946bed9bb5b29b8cf1d735d8d7c98605913672a615a7b9353e44e9\n",
      "Check this website: http://www.wmc.org.pl/?q=node/105\n",
      "yes\n",
      "congress 1\n",
      "___________________\n",
      "7eab269c595f284abd63b8f58e587a8c08cb5942d0644969a5fcbac4\n",
      "Check this website: https://www.argusmedia.com/ru/conferences-events\n",
      "yes\n",
      "форум 1\n",
      "yes\n",
      "conference 12\n",
      "yes\n",
      "forum 3\n",
      "___________________\n",
      "67eeb38bdccb94085d2ac0d69d1a25f4875a6a20fad2cee89bcb5863\n",
      "___________________\n",
      "459953841d1c4f6f0dd7db2ebc048493c6dcbd59128e6b41f2da9ba2\n",
      "___________________\n",
      "7ca24d091a5b2ce3f3f82dfca9dbdd8f7d9fa73a419da5e12c4f1c47\n",
      "___________________\n",
      "221aedb1da38ee66ccf6d68bd0fafb7291bc6084cd619b4e29d97c4f\n"
     ]
    }
   ],
   "source": [
    "counter = 0\n",
    "for i in range(len(websites)):\n",
    "    if(websites[i]==\"http://www.audit.kz/\" or websites[i]==\"https://pnk.kz/\" or websites[i]==\"https://aifc.kz/ru/events/\" or websites[i] == \"https://www2.deloitte.com/kz/ru.html\" or websites[i]== \"https://www.apk-inform.com/ru\"):\n",
    "        continue\n",
    "    uClient = uReq(websites[i])\n",
    "    page_html = uClient.read()\n",
    "    uClient.close()\n",
    "    print(\"___________________\")\n",
    "    page_soup = soup(page_html, \"html.parser\")\n",
    "    \n",
    "    page_str = str(page_soup.body)\n",
    "    begin = int(0.2 * len(page_str))\n",
    "    end = int(0.8 * len(page_str))\n",
    "    str_concat = page_str[begin:end]\n",
    "    \n",
    "    print(hashlib.sha224(str_concat.encode('utf-8')).hexdigest())\n",
    "    if(hashes[counter] == hashlib.sha224(str_concat.encode('utf-8')).hexdigest()):\n",
    "        counter = counter + 1\n",
    "        continue\n",
    "    else:\n",
    "        #write a new hash to excel file\n",
    "        hashes_wb = load_workbook(\"Desktop\\Files for Scraping\\Hashes.xlsx\")\n",
    "        hashes_ws = hashes_wb[\"Sheet1\"]\n",
    "        hashes_ws.cell(counter + 1, 1).value = hashlib.sha224(str_concat.encode('utf-8')).hexdigest()\n",
    "        hashes_wb.save(\"Desktop\\Files for Scraping\\Hashes.xlsx\")\n",
    "        \n",
    "        #parse the html file to find keywords\n",
    "        print(\"Check this website: \" + websites[i])\n",
    "        for j in range(len(keywords)):\n",
    "            temp = []\n",
    "            temp = re.findall(keywords[j], str(page_soup.body))\n",
    "            if(temp!= []):\n",
    "                print(\"yes\")\n",
    "                print(str(temp[0]) + \" \" + str(len(temp)))\n",
    "    counter = counter + 1"
   ]
  },
  {
   "cell_type": "code",
   "execution_count": 19,
   "metadata": {},
   "outputs": [
    {
     "data": {
      "text/plain": [
       "32"
      ]
     },
     "execution_count": 19,
     "metadata": {},
     "output_type": "execute_result"
    }
   ],
   "source": [
    "counter"
   ]
  }
 ],
 "metadata": {
  "kernelspec": {
   "display_name": "Python 3",
   "language": "python",
   "name": "python3"
  },
  "language_info": {
   "codemirror_mode": {
    "name": "ipython",
    "version": 3
   },
   "file_extension": ".py",
   "mimetype": "text/x-python",
   "name": "python",
   "nbconvert_exporter": "python",
   "pygments_lexer": "ipython3",
   "version": "3.8.3"
  }
 },
 "nbformat": 4,
 "nbformat_minor": 4
}
